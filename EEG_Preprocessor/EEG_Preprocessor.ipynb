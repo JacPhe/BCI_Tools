{
 "cells": [
  {
   "cell_type": "markdown",
   "id": "dbabc68d-bc60-4527-b9d9-79cdfd87190d",
   "metadata": {},
   "source": [
    "# EEG Preprocessor"
   ]
  },
  {
   "cell_type": "code",
   "execution_count": 1,
   "id": "10c58823-6121-4957-8b17-fbec3efe5750",
   "metadata": {},
   "outputs": [],
   "source": [
    "# Import dependencies.\n",
    "import mne\n",
    "import os\n",
    "import shutil # High-level file organisation.\n",
    "from pymatreader import read_mat # Reading .mat files.\n",
    "import numpy as np\n",
    "import re\n",
    "from itertools import chain\n",
    "import ipywidgets as widgets\n",
    "import matplotlib"
   ]
  },
  {
   "cell_type": "markdown",
   "id": "188d88d6-736a-4d80-87d0-27f1b64302c6",
   "metadata": {},
   "source": [
    "## Create MNE data structures:"
   ]
  },
  {
   "cell_type": "code",
   "execution_count": 2,
   "id": "01de2691-26d9-4e97-8e12-b619fab19e11",
   "metadata": {
    "scrolled": true
   },
   "outputs": [],
   "source": [
    "if not os.path.exists(\"eeg_data\"):\n",
    "    # Create the folder \"eeg_data\"\n",
    "    os.makedirs(\"eeg_data\")\n",
    "\n",
    "data_folder = os.path.join(\n",
    "    \"eeg_data\"\n",
    ")"
   ]
  },
  {
   "cell_type": "markdown",
   "id": "6c83fee4-f446-40c9-b550-ed14754a2b3d",
   "metadata": {},
   "source": [
    "### Before running below, add your files to eeg_data. They should be .mat, .fif, .gdf or .edf files."
   ]
  },
  {
   "cell_type": "code",
   "execution_count": 3,
   "id": "68ce553a-ba01-4a49-a526-7b388de05aea",
   "metadata": {},
   "outputs": [],
   "source": [
    "# Account for extensions by sorting into folder.\n",
    "\n",
    "# Sort through folder.\n",
    "for file in os.listdir(data_folder):\n",
    "    name, ext = os.path.splitext(file)\n",
    "    ext = ext[1:] # Remove '.' from extension name\n",
    "\n",
    "    if ext == '':\n",
    "        continue\n",
    "\n",
    "    if os.path.exists(data_folder + \"/\" + ext):\n",
    "        shutil.move(data_folder + \"/\" + file, data_folder + \"/\" + ext)\n",
    "\n",
    "    else:\n",
    "        os.makedirs(data_folder + \"/\" +  ext)\n",
    "        shutil.move(data_folder + \"/\" + file, data_folder + \"/\" + ext)"
   ]
  },
  {
   "cell_type": "code",
   "execution_count": 4,
   "id": "f604e953-23b2-425f-abe1-ce19943ce26f",
   "metadata": {},
   "outputs": [],
   "source": [
    "def simplify_dict(d):\n",
    "    for key, value in d.items():\n",
    "        if isinstance(value, list):\n",
    "            # If the list contains nested lists, flatten them:\n",
    "            while len(value) == 1 and isinstance(value[0], list):\n",
    "                value = value[0]\n",
    "            d[key] = value\n",
    "        elif isinstance(value, dict):\n",
    "            # If the value is a dictionary, simplify it recursively:\n",
    "            d[key] = simplify_dict(value)\n",
    "    return d\n",
    "\n",
    "def regex_search_dict(data, regex_pattern):\n",
    "\n",
    "    match = [] # Initialise match\n",
    "    \n",
    "    # Search dict:\n",
    "    for key, value in data.items():\n",
    "        if re.search(regex_pattern, key):\n",
    "             match.append(data[key])\n",
    "        if isinstance(value, dict): # Also search for nested dictionaries.\n",
    "            match.append(regex_search_dict(value, regex_pattern))\n",
    "    return match\n",
    "\n",
    "def create_mne_from_mat_dict(mat_dict):\n",
    "    \n",
    "    # These regexp search patterns will be used for searching .mat file types:\n",
    "    regex_info = {\n",
    "        \"ch_names\": r\"\\b(ch(?:annel)?_?names?)\\b\", # Different permutations of channel name.\n",
    "        \"sfreq\": r\"\\b((?:samp(?:ling)?|s)_?Freq(?:uency)?)\\b\", # Different permutations of sampling frequency.\n",
    "        \"ch_types\": r\"\\b(ch(?:annel)?_?types?)\\b\"\n",
    "    }\n",
    "        #\"projs\": r\"\\bproj(?:ector?s?)\\b\", # Different permutations of projectors.\n",
    "        #\"events\": r\"\\b(?:event\\w*|marker\\w*)\\b\", # Different permutations of events.\n",
    "    parameters = {}\n",
    "    \n",
    "    for pattern in regex_info:\n",
    "        match = regex_search_dict(mat_dict, regex_info[pattern])\n",
    "        parameters[pattern] = match\n",
    "\n",
    "    simplify_dict(parameters)\n",
    "\n",
    "    # Sampling frequency is taken as a float value, so if it's a list it'll be converted:\n",
    "    if isinstance(parameters['sfreq'], list) and len(parameters['sfreq']) == 1:\n",
    "        parameters['sfreq'] = float(parameters['sfreq'][0])\n",
    "\n",
    "    # Check that the amount of channels named and\n",
    "    \n",
    "    data_patterns = r\"\\b(?:eeg|raw[_\\s]?eeg|data|eeg[_\\s]?data|data[_\\s]?eeg)\\b\" # Different permutations of eeg data.\n",
    "    data = regex_search_dict(mat_dict, data_patterns)\n",
    "    data = np.array(data)\n",
    "    data = data.squeeze() # Flatten any superfluous dimensions of 1.\n",
    "    \n",
    "    # This checks that channels are on the x-axis and samples are on the y-axis. Almost unilaterally, the number of samples will be greater than the number of channels (and if not, the sample size is insufficient).\n",
    "    if data.shape[0] > data.shape[1]:\n",
    "        data = data.T\n",
    "\n",
    "    len1 = len(parameters['ch_names'])\n",
    "    len2 = len(data)\n",
    "\n",
    "    # If there aren't as many ch_names as there are channels in data, then ch_names will be defaulted to ['channel0', ...]:\n",
    "    if len1 < len2:\n",
    "        parameters['ch_names'] = []\n",
    "        parameters['ch_names'] = [f\"channel{i}\" for i in range(len(data))]\n",
    "\n",
    "    # If there's no input for channel types, they are assumed to all be EEG:\n",
    "    if len(parameters['ch_types']) != len(parameters['ch_names']):\n",
    "        parameters['ch_types'] = [\"eeg\"]*len(parameters['ch_names'])\n",
    "        \n",
    "    info = mne.create_info(**parameters) # Create the MNE info structure.\n",
    "    \n",
    "    raweeg = mne.io.RawArray(data, info) # Create the MNE raw object.\n",
    "    \n",
    "    return raweeg"
   ]
  },
  {
   "cell_type": "code",
   "execution_count": 5,
   "id": "1d6c32f1-a5ce-473e-a921-717e31fa9ba7",
   "metadata": {
    "scrolled": true
   },
   "outputs": [
    {
     "name": "stdout",
     "output_type": "stream",
     "text": [
      "Creating RawArray with float64 data, n_channels=22, n_times=621892\n",
      "    Range : 0 ... 621891 =      0.000 ...  3109.455 secs\n",
      "Ready.\n",
      "Creating RawArray with float64 data, n_channels=22, n_times=666800\n",
      "    Range : 0 ... 666799 =      0.000 ...  3333.995 secs\n",
      "Ready.\n",
      "Creating RawArray with float64 data, n_channels=22, n_times=621884\n",
      "    Range : 0 ... 621883 =      0.000 ...  3109.415 secs\n",
      "Ready.\n",
      "Creating RawArray with float64 data, n_channels=22, n_times=620168\n",
      "    Range : 0 ... 620167 =      0.000 ...  3100.835 secs\n",
      "Ready.\n",
      "Creating RawArray with float64 data, n_channels=22, n_times=671600\n",
      "    Range : 0 ... 671599 =      0.000 ...  3357.995 secs\n",
      "Ready.\n",
      "Creating RawArray with float64 data, n_channels=22, n_times=729400\n",
      "    Range : 0 ... 729399 =      0.000 ...  3646.995 secs\n",
      "Ready.\n",
      "Creating RawArray with float64 data, n_channels=22, n_times=667800\n",
      "    Range : 0 ... 667799 =      0.000 ...  3338.995 secs\n",
      "Ready.\n",
      "Creating RawArray with float64 data, n_channels=22, n_times=667400\n",
      "    Range : 0 ... 667399 =      0.000 ...  3336.995 secs\n",
      "Ready.\n"
     ]
    }
   ],
   "source": [
    "raw_eeg_list = []\n",
    "\n",
    "for folder in os.listdir(data_folder):\n",
    "    path = os.path.join(data_folder, folder)\n",
    "    for file in os.listdir(path):\n",
    "        raweeg=os.path.join(data_folder, folder, file)\n",
    "\n",
    "        # While .mat files are common, they don't have a standardised recording format, and so they need to be handled separately.\n",
    "        if folder == \"mat\":\n",
    "            matfile = read_mat(raweeg)\n",
    "            mne_mat = create_mne_from_mat_dict(matfile)\n",
    "            raw_eeg_list.append(mne_mat)\n",
    "        else:\n",
    "            raw_eeg_list.append(mne.io.read_raw(raweeg, verbose=False))"
   ]
  },
  {
   "cell_type": "markdown",
   "id": "b33d37ba-23a5-49bd-bc02-a30fce639dcc",
   "metadata": {},
   "source": [
    "## Apply filters:"
   ]
  },
  {
   "cell_type": "code",
   "execution_count": 10,
   "id": "19f90f73-6add-4f51-a4c4-cd8e936b9a5d",
   "metadata": {},
   "outputs": [
    {
     "data": {
      "application/vnd.jupyter.widget-view+json": {
       "model_id": "356b643fa5174901af9603dfee596e1b",
       "version_major": 2,
       "version_minor": 0
      },
      "text/plain": [
       "Checkbox(value=False, description='Apply bandpass')"
      ]
     },
     "metadata": {},
     "output_type": "display_data"
    }
   ],
   "source": [
    "filter_check = widgets.Checkbox(\n",
    "    value=False,\n",
    "    description='Apply bandpass',\n",
    "    disabled=False\n",
    ")\n",
    "\n",
    "lowfreq = widgets.BoundedFloatText(\n",
    "    value=8.0,\n",
    "    min=0,\n",
    "    max=150,\n",
    "    step=0.1,\n",
    "    description='l_freq filter:',\n",
    "    disabled=False\n",
    ")\n",
    "\n",
    "highfreq = widgets.BoundedFloatText(\n",
    "    value=35.0,\n",
    "    min=0,\n",
    "    max=150,\n",
    "    step=0.1,\n",
    "    description='h_freq filter:',\n",
    "    disabled=False\n",
    ")\n",
    "\n",
    "display(filter_check)"
   ]
  },
  {
   "cell_type": "code",
   "execution_count": 20,
   "id": "308e7e4b-8b89-4ee8-a954-57f64e6d6ae4",
   "metadata": {},
   "outputs": [],
   "source": [
    "if filter_check.value == True:\n",
    "    display(lowfreq)\n",
    "    display(highfreq)"
   ]
  },
  {
   "cell_type": "code",
   "execution_count": 21,
   "id": "692426b8-0a8f-4fb7-8561-0e3df3ed057d",
   "metadata": {},
   "outputs": [
    {
     "name": "stdout",
     "output_type": "stream",
     "text": [
      "Filtering raw data in 1 contiguous segment\n",
      "\n",
      "FIR filter parameters\n",
      "---------------------\n",
      "Designing a one-pass, zero-phase, non-causal allpass filter:\n",
      "- Windowed time-domain design (firwin) method\n",
      "- Hamming window with 0.0194 passband ripple and 53 dB stopband attenuation\n",
      "- Filter length: 1 samples (0.005 s)\n",
      "\n"
     ]
    }
   ],
   "source": [
    "if filter_check.value == True:\n",
    "    freqs = [lowfreq.value, highfreq.value]\n",
    "else:\n",
    "    freqs = [None, None]\n",
    "\n",
    "test = raw_eeg_list[0].copy().filter(l_freq=freqs[0], h_freq=freqs[1])"
   ]
  },
  {
   "cell_type": "code",
   "execution_count": 22,
   "id": "ed7e415a-2326-4a8e-9c4d-755c9a41f73c",
   "metadata": {},
   "outputs": [
    {
     "data": {
      "text/plain": [
       "<mne_qt_browser._pg_figure.MNEQtBrowser at 0x7f665b5632f0>"
      ]
     },
     "execution_count": 22,
     "metadata": {},
     "output_type": "execute_result"
    },
    {
     "name": "stdout",
     "output_type": "stream",
     "text": [
      "Channels marked as bad:\n",
      "none\n"
     ]
    }
   ],
   "source": [
    "test.plot()"
   ]
  }
 ],
 "metadata": {
  "kernelspec": {
   "display_name": "Python 3 (ipykernel)",
   "language": "python",
   "name": "python3"
  },
  "language_info": {
   "codemirror_mode": {
    "name": "ipython",
    "version": 3
   },
   "file_extension": ".py",
   "mimetype": "text/x-python",
   "name": "python",
   "nbconvert_exporter": "python",
   "pygments_lexer": "ipython3",
   "version": "3.12.2"
  }
 },
 "nbformat": 4,
 "nbformat_minor": 5
}
